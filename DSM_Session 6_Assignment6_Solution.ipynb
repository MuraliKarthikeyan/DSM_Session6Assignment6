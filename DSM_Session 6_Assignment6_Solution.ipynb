{
 "cells": [
  {
   "cell_type": "markdown",
   "metadata": {},
   "source": [
    "# Data Science Masters :Assignment 6"
   ]
  },
  {
   "cell_type": "raw",
   "metadata": {},
   "source": [
    "1.  Write a function so that the columns of the output matrix are powers of the input vector.\n",
    "    \n",
    "    The order of the powers is determined by the increasing boolean argument. Specifically,\n",
    "    when increasing is False, the i-th output column is the input vector raised element-wise\n",
    "    to the power of N - i - 1.\n",
    "\n",
    "    HINT: Such a matrix with a geometric progression in each row is named for Alexandre-Theophile Vandermonde.\n",
    "    \n",
    "    Alexandre-Theophile Vandermonde Matrix for input [1,2,3,4,5] with increasing 'False' looks like:\n",
    "    [[  1,   1,   1,   1,   1],\n",
    "     [ 16,   8,   4,   2,   1],\n",
    "     [ 81,  27,   9,   3,   1],\n",
    "     [256,  64,  16,   4,   1],\n",
    "     [625, 125,  25,   5,   1]]"
   ]
  },
  {
   "cell_type": "code",
   "execution_count": 72,
   "metadata": {},
   "outputs": [
    {
     "name": "stdout",
     "output_type": "stream",
     "text": [
      "Input Vector -> [1, 2, 3, 4, 5]\n",
      "\n",
      "Result in 2D array format :-\n",
      " [[1, 1, 1, 1, 1], [16, 8, 4, 2, 1], [81, 27, 9, 3, 1], [256, 64, 16, 4, 1], [625, 125, 25, 5, 1]]\n",
      "\n",
      "Result in Matrix format :-\n",
      "   1   1   1   1   1\n",
      "  16   8   4   2   1\n",
      "  81  27   9   3   1\n",
      " 256  64  16   4   1\n",
      " 625 125  25   5   1\n",
      "\n",
      "Result in Matrix format using Numpy Library :-\n"
     ]
    },
    {
     "data": {
      "text/plain": [
       "matrix([[  1,   1,   1,   1,   1],\n",
       "        [ 16,   8,   4,   2,   1],\n",
       "        [ 81,  27,   9,   3,   1],\n",
       "        [256,  64,  16,   4,   1],\n",
       "        [625, 125,  25,   5,   1]])"
      ]
     },
     "execution_count": 72,
     "metadata": {},
     "output_type": "execute_result"
    }
   ],
   "source": [
    "# Solution:\n",
    "# Defining 'formVandermondeMatrix' function with three arguments.... \n",
    "def formVandermondeMatrix(in_Vector,n,increasing_bool) :\n",
    "    # Based on increasing_bool (boolean value) , the order of the power changes accordingly...\n",
    "    if (increasing_bool) :\n",
    "        powerVector = range(n)\n",
    "    else :\n",
    "        powerVector = range(n-1,-1,-1)\n",
    "        \n",
    "    # Iterating each element in inputVector and computing the power of it iterating thru powerVector \n",
    "    # and appending to outputList...\n",
    "    for i in in_Vector :\n",
    "        outList = []\n",
    "        for pow in powerVector :\n",
    "            outList.append(i**pow)\n",
    "        outputVector.append(outList)\n",
    "    return(outputVector)\n",
    "\n",
    "# Defining variables to hold data...\n",
    "inputVector = [1, 2, 3, 4, 5]\n",
    "outputVector = []\n",
    "\n",
    "# Calculating the length to compute the power of the given vector elements...\n",
    "n =  len(inputVector)\n",
    "\n",
    "#Calling function with arguments in_vector,n and boolean (increasing)... \n",
    "resultVector = formVandermondeMatrix(inputVector,n,False) \n",
    "\n",
    "print(\"Input Vector ->\",inputVector)\n",
    "# Printing result as it is - 2D array format\n",
    "print(\"\\nResult in 2D array format :-\\n\",resultVector)\n",
    "\n",
    "# Printing the ouput to look like Matrix  \n",
    "print(\"\\nResult in Matrix format :-\")\n",
    "print('\\n'.join([''.join(['{:4}'.format(item) for item in row]) \n",
    "      for row in resultVector]))\n",
    "\n",
    "# Printing the result as Matrix with the help of Numpy library..\n",
    "import numpy as np\n",
    "print(\"\\nResult in Matrix format using Numpy Library :-\")\n",
    "np.matrix(np.reshape(resultVector,(n,n)))"
   ]
  }
 ],
 "metadata": {
  "kernelspec": {
   "display_name": "Python 3",
   "language": "python",
   "name": "python3"
  },
  "language_info": {
   "codemirror_mode": {
    "name": "ipython",
    "version": 3
   },
   "file_extension": ".py",
   "mimetype": "text/x-python",
   "name": "python",
   "nbconvert_exporter": "python",
   "pygments_lexer": "ipython3",
   "version": "3.6.5"
  }
 },
 "nbformat": 4,
 "nbformat_minor": 2
}
